{
  "nbformat": 4,
  "nbformat_minor": 0,
  "metadata": {
    "colab": {
      "provenance": [],
      "authorship_tag": "ABX9TyNREUXfiTNrH+oFzb4Egqt7",
      "include_colab_link": true
    },
    "kernelspec": {
      "name": "python3",
      "display_name": "Python 3"
    },
    "language_info": {
      "name": "python"
    }
  },
  "cells": [
    {
      "cell_type": "markdown",
      "metadata": {
        "id": "view-in-github",
        "colab_type": "text"
      },
      "source": [
        "<a href=\"https://colab.research.google.com/github/Efind2/Artificial-intelligence/blob/main/A_star.ipynb\" target=\"_parent\"><img src=\"https://colab.research.google.com/assets/colab-badge.svg\" alt=\"Open In Colab\"/></a>"
      ]
    },
    {
      "cell_type": "code",
      "source": [
        "import heapq\n",
        "\n",
        "def a_star(grid, start, goal):\n",
        "    def heuristic(a, b):\n",
        "        return abs(a[0] - b[0]) + abs(a[1] - b[1])\n",
        "\n",
        "    directions = [(0, 1), (1, 0), (0, -1), (-1, 0)]\n",
        "    open_list = []\n",
        "    heapq.heappush(open_list, (0, start))\n",
        "\n",
        "    g_score = {start: 0}\n",
        "    f_score = {start: heuristic(start, goal)}\n",
        "    came_from = {}\n",
        "\n",
        "    while open_list:\n",
        "        _, current = heapq.heappop(open_list)\n",
        "\n",
        "        if current == goal:\n",
        "            path = []\n",
        "            while current in came_from:\n",
        "                path.append(current)\n",
        "                current = came_from[current]\n",
        "            path.append(start)\n",
        "            path.reverse()\n",
        "            return path\n",
        "\n",
        "        for direction in directions:\n",
        "            neighbor = (current[0] + direction[0], current[1] + direction[1])\n",
        "\n",
        "            if 0 <= neighbor[0] < len(grid) and 0 <= neighbor[1] < len(grid[0]) and grid[neighbor[0]][neighbor[1]] == 0:\n",
        "                tentative_g_score = g_score[current] + 1\n",
        "\n",
        "                if neighbor not in g_score or tentative_g_score < g_score[neighbor]:\n",
        "                    came_from[neighbor] = current\n",
        "                    g_score[neighbor] = tentative_g_score\n",
        "                    f_score[neighbor] = tentative_g_score + heuristic(neighbor, goal)\n",
        "                    heapq.heappush(open_list, (f_score[neighbor], neighbor))\n",
        "\n",
        "    return None\n",
        "\n",
        ""
      ],
      "metadata": {
        "id": "XjdrOhZq8GDw"
      },
      "execution_count": 1,
      "outputs": []
    },
    {
      "cell_type": "code",
      "source": [
        "import matplotlib.pyplot as plt\n",
        "import numpy as np\n",
        "\n",
        "def visualize_path(grid, path, start, goal):\n",
        "    grid = np.array(grid)\n",
        "    for (x, y) in path:\n",
        "        grid[x, y] = 2  # Menandai jalur\n",
        "    grid[start[0], start[1]] = 3  # Menandai titik awal\n",
        "    grid[goal[0], goal[1]] = 4  # Menandai titik tujuan\n",
        "\n",
        "    cmap = plt.cm.get_cmap(\"Accent\", 5)\n",
        "\n",
        "    bounds = [0, 1, 2, 3, 4]\n",
        "    norm = plt.Normalize(vmin=0, vmax=4)\n",
        "\n",
        "    plt.imshow(grid, cmap=cmap, norm=norm)\n",
        "    plt.colorbar(ticks=[0, 1, 2, 3, 4], format=plt.FuncFormatter(lambda val, loc: ['Empty', 'Obstacle', 'Path', 'Start', 'Goal'][int(val)]))\n",
        "    plt.title(\"A* Pathfinding Visualization\")\n",
        "    plt.show()\n"
      ],
      "metadata": {
        "id": "WC9ZbEGZAAy3"
      },
      "execution_count": 2,
      "outputs": []
    },
    {
      "cell_type": "code",
      "source": [
        "grid = [\n",
        "    [0, 0, 0, 0, 0, 0, 0, 0, 0, 0],\n",
        "    [0, 1, 1, 1, 0, 0, 0, 0, 0, 0],\n",
        "    [0, 1, 0, 1, 0, 1, 1, 1, 1, 0],\n",
        "    [0, 1, 0, 1, 0, 1, 0, 0, 1, 0],\n",
        "    [0, 1, 0, 0, 0, 1, 0, 1, 1, 0],\n",
        "    [0, 1, 1, 1, 1, 1, 0, 1, 1, 0],\n",
        "    [0, 0, 0, 0, 0, 0, 0, 1, 1, 0],\n",
        "    [0, 1, 1, 1, 1, 1, 1, 1, 1, 0],\n",
        "    [0, 1, 1, 1, 1, 1, 1, 1, 1, 0],\n",
        "    [0, 0, 0, 0, 0, 0, 0, 0, 0, 0]\n",
        "]\n",
        "\n",
        "start = (0, 0)\n",
        "goal = (9, 9)"
      ],
      "metadata": {
        "id": "U2lhsuwzLyJt"
      },
      "execution_count": 3,
      "outputs": []
    },
    {
      "cell_type": "code",
      "source": [
        "path = a_star(grid, start, goal)\n",
        "\n",
        "if path:\n",
        "    print(\"Jalur ditemukan:\", path)\n",
        "    visualize_path(grid, path, start, goal)\n",
        "else:\n",
        "    print(\"Tidak ada jalur yang ditemukan\")\n"
      ],
      "metadata": {
        "colab": {
          "base_uri": "https://localhost:8080/",
          "height": 504
        },
        "id": "z1S_R8FcPDZq",
        "outputId": "10172333-15a5-4080-d266-7d93bde3a1d3"
      },
      "execution_count": 4,
      "outputs": [
        {
          "output_type": "stream",
          "name": "stdout",
          "text": [
            "Jalur ditemukan: [(0, 0), (0, 1), (0, 2), (0, 3), (0, 4), (0, 5), (0, 6), (0, 7), (0, 8), (0, 9), (1, 9), (2, 9), (3, 9), (4, 9), (5, 9), (6, 9), (7, 9), (8, 9), (9, 9)]\n"
          ]
        },
        {
          "output_type": "stream",
          "name": "stderr",
          "text": [
            "<ipython-input-2-83b9b8bd845a>:11: MatplotlibDeprecationWarning: The get_cmap function was deprecated in Matplotlib 3.7 and will be removed in 3.11. Use ``matplotlib.colormaps[name]`` or ``matplotlib.colormaps.get_cmap()`` or ``pyplot.get_cmap()`` instead.\n",
            "  cmap = plt.cm.get_cmap(\"Accent\", 5)\n"
          ]
        },
        {
          "output_type": "display_data",
          "data": {
            "text/plain": [
              "<Figure size 640x480 with 2 Axes>"
            ],
            "image/png": "[encoded data removed]"
          },
          "metadata": {}
        }
      ]
    },
    {
      "cell_type": "markdown",
      "source": [
        "Analisis untuk contoh diatas\n",
        "kode tersebut untuk menentukan jalur terpendek dengan menggunkan metode A star pada grid 2 dimensin 10x10 dengan cara mengecek atau memastikan atas,bawah,kanan,kiri yang tidak keluar grid dan bukan rintangan pada kode tersebut rintangan diberi angka 1"
      ],
      "metadata": {
        "id": "rBZX802ckesQ"
      }
    },
    {
      "cell_type": "markdown",
      "source": [
        "disini saya menggunakan studi kasus mencari jalur terpendek dari kota A ke B"
      ],
      "metadata": {
        "id": "Y0w_tjsqmnpB"
      }
    },
    {
      "cell_type": "code",
      "source": [
        "import heapq\n",
        "import networkx as nx\n",
        "import matplotlib.pyplot as plt\n",
        "\n",
        "def a_star_graph(graph, start, goal):\n",
        "    def heuristic(a, b):\n",
        "        return abs(city_coords[a][0] - city_coords[b][0]) + abs(city_coords[a][1] - city_coords[b][1])\n",
        "\n",
        "    open_list = []\n",
        "    heapq.heappush(open_list, (0, start))\n",
        "\n",
        "    g_score = {node: float('inf') for node in graph}\n",
        "    g_score[start] = 0\n",
        "\n",
        "    f_score = {node: float('inf') for node in graph}\n",
        "    f_score[start] = heuristic(start, goal)\n",
        "\n",
        "    came_from = {}\n",
        "\n",
        "    while open_list:\n",
        "        _, current = heapq.heappop(open_list)\n",
        "\n",
        "        if current == goal:\n",
        "            path = []\n",
        "            while current in came_from:\n",
        "                path.append(current)\n",
        "                current = came_from[current]\n",
        "            path.append(start)\n",
        "            path.reverse()\n",
        "            return path\n",
        "\n",
        "        for neighbor, distance in graph[current].items():\n",
        "            tentative_g_score = g_score[current] + distance\n",
        "\n",
        "            if tentative_g_score < g_score[neighbor]:\n",
        "                came_from[neighbor] = current\n",
        "                g_score[neighbor] = tentative_g_score\n",
        "                f_score[neighbor] = tentative_g_score + heuristic(neighbor, goal)\n",
        "                heapq.heappush(open_list, (f_score[neighbor], neighbor))\n",
        "\n",
        "    return None\n",
        "\n",
        "def visualize_graph(graph, path=None):\n",
        "    G = nx.Graph()\n",
        "\n",
        "    for node, edges in graph.items():\n",
        "        for neighbor, distance in edges.items():\n",
        "            G.add_edge(node, neighbor, weight=distance)\n",
        "\n",
        "    pos = city_coords  # Posisi kota pada graf\n",
        "    labels = {node: node for node in graph}\n",
        "\n",
        "    plt.figure(figsize=(8, 6))\n",
        "    nx.draw(G, pos, with_labels=True, node_color='lightblue', edge_color='gray', node_size=2000, font_size=10)\n",
        "\n",
        "    edge_labels = {(node, neighbor): graph[node][neighbor] for node in graph for neighbor in graph[node]}\n",
        "    nx.draw_networkx_edge_labels(G, pos, edge_labels=edge_labels, font_size=10)\n",
        "\n",
        "    if path:\n",
        "        path_edges = [(path[i], path[i + 1]) for i in range(len(path) - 1)]\n",
        "        nx.draw_networkx_edges(G, pos, edgelist=path_edges, edge_color='red', width=2)\n",
        "\n",
        "    plt.title(\"Peta Kota dan Jalur Terpendek\")\n",
        "    plt.show()\n",
        "\n",
        "# **Data Kota dan Jalan Antar Kota**\n",
        "graph = {\n",
        "    'A': {'B': 5, 'C': 10},\n",
        "    'B': {'A': 5, 'D': 8, 'E': 7},\n",
        "    'C': {'A': 10, 'F': 5},\n",
        "    'D': {'B': 8, 'E': 2, 'G': 6},\n",
        "    'E': {'B': 7, 'D': 2, 'H': 3},\n",
        "    'F': {'C': 5, 'I': 6},\n",
        "    'G': {'D': 6, 'H': 4},\n",
        "    'H': {'E': 3, 'G': 4, 'I': 5},\n",
        "    'I': {'F': 6, 'H': 5}\n",
        "}\n",
        "\n",
        "# Koordinat Kota (untuk visualisasi)\n",
        "city_coords = {\n",
        "    'A': (0, 3), 'B': (1, 3), 'C': (0, 2), 'D': (2, 3),\n",
        "    'E': (2, 2), 'F': (0, 1), 'G': (3, 3), 'H': (3, 2),\n",
        "    'I': (1, 0)\n",
        "}\n",
        "\n",
        "start = 'A'\n",
        "goal = 'I'\n",
        "path = a_star_graph(graph, start, goal)\n",
        "\n",
        "if path:\n",
        "    print(\"Jalur ditemukan:\", \" → \".join(path))\n",
        "    visualize_graph(graph, path)\n",
        "else:\n",
        "    print(\"Tidak ada jalur yang ditemukan\")\n"
      ],
      "metadata": {
        "colab": {
          "base_uri": "https://localhost:8080/",
          "height": 676
        },
        "id": "Eofc0HUunLp1",
        "outputId": "db8447ea-4286-4ecb-e585-08d66bae3a3a"
      },
      "execution_count": 9,
      "outputs": [
        {
          "output_type": "stream",
          "name": "stdout",
          "text": [
            "Jalur ditemukan: A → B → E → H → I\n"
          ]
        },
        {
          "output_type": "display_data",
          "data": {
            "text/plain": [
              "<Figure size 800x600 with 1 Axes>"
            ],
            "image/png": "[encoded data removed]"
          },
          "metadata": {}
        }
      ]
    }
  ]
}
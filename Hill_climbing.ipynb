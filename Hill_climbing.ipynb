{
  "nbformat": 4,
  "nbformat_minor": 0,
  "metadata": {
    "colab": {
      "provenance": [],
      "authorship_tag": "ABX9TyOT49jWoTPlPcoU9u/mB7PE",
      "include_colab_link": true
    },
    "kernelspec": {
      "name": "python3",
      "display_name": "Python 3"
    },
    "language_info": {
      "name": "python"
    }
  },
  "cells": [
    {
      "cell_type": "markdown",
      "metadata": {
        "id": "view-in-github",
        "colab_type": "text"
      },
      "source": [
        "<a href=\"https://colab.research.google.com/github/Efind2/Artificial-intelligence/blob/main/Hill_climbing.ipynb\" target=\"_parent\"><img src=\"https://colab.research.google.com/assets/colab-badge.svg\" alt=\"Open In Colab\"/></a>"
      ]
    },
    {
      "cell_type": "code",
      "source": [
        "import random\n",
        "def objective_function(x):\n",
        "  return -x**2 + 4*x\n",
        "def hill_climbing():\n",
        "  current_solution = random.uniform(-10, 10)\n",
        "  current_value = objective_function(current_solution)\n",
        "  step_size = 0.1\n",
        "  max_iterations = 1000\n",
        "  for i in range(max_iterations):\n",
        "    neighbors = [current_solution + step_size, current_solution - step_size]\n",
        "    next_solution = max(neighbors, key=objective_function)\n",
        "    next_value = objective_function(next_solution)\n",
        "    if next_value > current_value:\n",
        "      current_solution = next_solution\n",
        "      current_value = next_value\n",
        "    else:\n",
        "      break\n",
        "  return current_solution, current_value\n",
        "best_solution, best_value = hill_climbing()\n",
        "print(f\"Best solution: {best_solution}\")\n",
        "print(f\"Best value: {best_value}\")"
      ],
      "metadata": {
        "colab": {
          "base_uri": "https://localhost:8080/"
        },
        "id": "S7M6r-FnZPru",
        "outputId": "9f96f00e-c478-48f5-e05d-f9a15fde2251"
      },
      "execution_count": 10,
      "outputs": [
        {
          "output_type": "stream",
          "name": "stdout",
          "text": [
            "Best solution: 2.000792539826591\n",
            "Best value: 3.999999371880623\n"
          ]
        }
      ]
    },
    {
      "cell_type": "markdown",
      "source": [
        "Analisis kode tersebut, kode tersebut digunakan untuk mencari nilai maksimum dari fungsi -x**2 + 4*x dengan dimulai dari titik acak antara -10 dan 10 kemudian mencari solusi terbaik"
      ],
      "metadata": {
        "id": "NZmBRymUweeM"
      }
    },
    {
      "cell_type": "markdown",
      "source": [
        "saya menggunakan studi kasus maksimum dari fungsi -2*x**2 + 20*x + 5"
      ],
      "metadata": {
        "id": "uLBsD47Awfnv"
      }
    },
    {
      "cell_type": "code",
      "source": [
        "import random\n",
        "\n",
        "def profit_function(x):\n",
        "    return -2*x**2 + 20*x + 5\n",
        "def hill_climbing():\n",
        "    current_solution = random.uniform(0, 10)\n",
        "    current_value = profit_function(current_solution)\n",
        "    step_size = 0.1\n",
        "    max_iterations = 1000\n",
        "\n",
        "    for _ in range(max_iterations):\n",
        "        neighbors = [current_solution + step_size, current_solution - step_size]\n",
        "        next_solution = max(neighbors, key=profit_function)\n",
        "        next_value = profit_function(next_solution)\n",
        "\n",
        "        if next_value > current_value:\n",
        "            current_solution = next_solution\n",
        "            current_value = next_value\n",
        "        else:\n",
        "            break\n",
        "\n",
        "    return current_solution, current_value\n",
        "\n",
        "best_solution, best_value = hill_climbing()\n",
        "print(f\"Best solution: {best_solution}\")\n",
        "print(f\"Best value: {best_value}\")\n"
      ],
      "metadata": {
        "colab": {
          "base_uri": "https://localhost:8080/"
        },
        "id": "h7IQHOdbwCeR",
        "outputId": "8f37cdeb-4b15-4c2e-84c0-ed32c9c84f84"
      },
      "execution_count": 11,
      "outputs": [
        {
          "output_type": "stream",
          "name": "stdout",
          "text": [
            "Best solution: 5.040482566217129\n",
            "Best value: 54.996722323664955\n"
          ]
        }
      ]
    }
  ]
}